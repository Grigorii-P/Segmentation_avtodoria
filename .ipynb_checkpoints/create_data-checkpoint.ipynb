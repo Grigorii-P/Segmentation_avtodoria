{
 "cells": [
  {
   "cell_type": "code",
   "execution_count": 24,
   "metadata": {},
   "outputs": [],
   "source": [
    "import os\n",
    "import json\n",
    "import cv2\n",
    "import numpy as np\n",
    "from random import shuffle\n",
    "%config InlineBackend.figure_format = 'retina'"
   ]
  },
  {
   "cell_type": "code",
   "execution_count": 25,
   "metadata": {},
   "outputs": [],
   "source": [
    "path_to_images = '/home/grigorii/Desktop/primary_search/2017-10-03T00_00_01__2017-11-01T00_00_00/nn_images/'\n",
    "path_to_save = '/home/grigorii/Desktop/Segmentation/images/'\n",
    "\n",
    "def copy_images(all_images, images, type_of_set):\n",
    "    for img in images:\n",
    "        try:\n",
    "            os.system('cp ' + path_to_images + img + ' ' + path_to_save + type_of_set)\n",
    "            mask = create_mask(os.path.join(path_to_save + type_of_set, img), all_images[img])\n",
    "            path_to_save_mask = os.path.join(path_to_save + type_of_set, img.split('.')[0] + '_mask.jpg')\n",
    "            cv2.imwrite(path_to_save_mask, mask)\n",
    "        except:\n",
    "            pass\n",
    "        \n",
    "def create_mask(filename, area):\n",
    "    im = cv2.imread(filename)\n",
    "    size = (im.shape[0],im.shape[1])\n",
    "    x1, x2 = area[0], area[2]\n",
    "    y1, y2 = area[1], area[3]\n",
    "    mask = np.zeros(size, dtype=np.uint8)\n",
    "    mask[y1:y2, x1:x2] = 255\n",
    "    return mask"
   ]
  },
  {
   "cell_type": "markdown",
   "metadata": {},
   "source": [
    "### Read all the images in a dict together with plate coordinates"
   ]
  },
  {
   "cell_type": "code",
   "execution_count": 26,
   "metadata": {},
   "outputs": [],
   "source": [
    "dir_images = '/home/grigorii/Desktop/primary_search/2017-10-03T00_00_01__2017-11-01T00_00_00/'\n",
    "all_images = {}\n",
    "\n",
    "files = os.listdir(dir_images)\n",
    "json_list = []\n",
    "for file in files:\n",
    "    if file.endswith(\".json\"):\n",
    "        json_list.append(file)\n",
    "\n",
    "shift = 5\n",
    "        \n",
    "data_all = []\n",
    "for json_file in json_list:\n",
    "    with open(dir_images+json_file) as f:\n",
    "        data = json.load(f)\n",
    "        data_all.append(data)\n",
    "        for i, item in enumerate(data['results']):\n",
    "            \n",
    "            # add first image from two\n",
    "            img_name = item['firstOct']['photoProof']['link'].split('/')[-1]\n",
    "            left = item['firstOct']['photoProof']['bounds']['leftBorder']\n",
    "            top = item['firstOct']['photoProof']['bounds']['topBorder']\n",
    "            right = item['firstOct']['photoProof']['bounds']['rightBorder']\n",
    "            bottom = item['firstOct']['photoProof']['bounds']['bottomBorder']\n",
    "            all_images[img_name] = (left, top - shift, right, bottom + shift)\n",
    "            \n",
    "            # add first image from two\n",
    "            img_name = item['secondOct']['photoProof']['link'].split('/')[-1]\n",
    "            left = item['secondOct']['photoProof']['bounds']['leftBorder']\n",
    "            top = item['secondOct']['photoProof']['bounds']['topBorder']\n",
    "            right = item['secondOct']['photoProof']['bounds']['rightBorder']\n",
    "            bottom = item['secondOct']['photoProof']['bounds']['bottomBorder']\n",
    "            all_images[img_name] = (left, top - shift, right, bottom + shift)"
   ]
  },
  {
   "cell_type": "markdown",
   "metadata": {},
   "source": [
    "### Copy images and create masks"
   ]
  },
  {
   "cell_type": "code",
   "execution_count": 27,
   "metadata": {},
   "outputs": [],
   "source": [
    "images = list(all_images.keys())\n",
    "\n",
    "num_train = 10\n",
    "shuffle(images)\n",
    "images_train = images[:num_train]\n",
    "\n",
    "num_test = 10\n",
    "shuffle(images)\n",
    "images_test = images[:num_test]\n",
    "\n",
    "num_valid = 10\n",
    "shuffle(images)\n",
    "images_valid = images[:num_valid]"
   ]
  },
  {
   "cell_type": "code",
   "execution_count": 28,
   "metadata": {},
   "outputs": [],
   "source": [
    "copy_images(all_images, images_train, 'train')\n",
    "copy_images(all_images, images_test, 'test')\n",
    "copy_images(all_images, images_valid, 'valid')"
   ]
  },
  {
   "cell_type": "code",
   "execution_count": 23,
   "metadata": {},
   "outputs": [],
   "source": [
    "im = cv2.imread('/home/grigorii/Desktop/Segmentation/images/train/img_140_20171012_170630_224_3415742_mask.jpg')\n",
    "res = cv2.resize(im, (120,100))\n",
    "cv2.imshow('res',res)\n",
    "cv2.waitKey(0)\n",
    "cv2.destroyAllWindows()"
   ]
  },
  {
   "cell_type": "code",
   "execution_count": null,
   "metadata": {},
   "outputs": [],
   "source": []
  }
 ],
 "metadata": {
  "kernelspec": {
   "display_name": "Python 3",
   "language": "python",
   "name": "python3"
  },
  "language_info": {
   "codemirror_mode": {
    "name": "ipython",
    "version": 3
   },
   "file_extension": ".py",
   "mimetype": "text/x-python",
   "name": "python",
   "nbconvert_exporter": "python",
   "pygments_lexer": "ipython3",
   "version": "3.6.5"
  }
 },
 "nbformat": 4,
 "nbformat_minor": 2
}
